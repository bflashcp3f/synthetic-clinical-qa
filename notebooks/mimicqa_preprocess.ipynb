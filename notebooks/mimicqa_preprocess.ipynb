{
 "cells": [
  {
   "cell_type": "code",
   "execution_count": 1,
   "metadata": {},
   "outputs": [],
   "source": [
    "import json\n",
    "import string\n",
    "\n",
    "from pathlib import Path\n",
    "from collections import Counter\n",
    "\n",
    "from nltk.tokenize import word_tokenize\n",
    "from nltk.util import ngrams\n",
    "from nltk.corpus import stopwords\n",
    "\n",
    "from pandas import DataFrame\n",
    "import pandas as pd\n",
    "\n",
    "from scipy.stats import skew"
   ]
  },
  {
   "cell_type": "code",
   "execution_count": 2,
   "metadata": {},
   "outputs": [
    {
     "name": "stdout",
     "output_type": "stream",
     "text": [
      "Loaded 36 test documents\n"
     ]
    }
   ],
   "source": [
    "mimicqa_dir_raw = Path('../data/raw/mimicqa/')\n",
    "mimicqa_test_path_raw = mimicqa_dir_raw / 'test.final.json'\n",
    "mimicqa_test = json.load(open(mimicqa_test_path_raw))\n",
    "mimicqa_test = {'data': mimicqa_test['data']}\n",
    "print(f\"Loaded {len(mimicqa_test['data'])} test documents\")"
   ]
  },
  {
   "cell_type": "code",
   "execution_count": null,
   "metadata": {},
   "outputs": [],
   "source": [
    "mimicqa_output_dir = Path('../data/modified/mimicqa/')\n",
    "mimicqa_output_path = mimicqa_output_dir / 'test_processed.json'\n",
    "\n",
    "mimicqa_test_new = []\n",
    "for data_item in mimicqa_test['data']:\n",
    "    # print(data_item['title'])\n",
    "    paras_new = []\n",
    "    for para_index, paragraph in enumerate(data_item['paragraphs']):\n",
    "        # print(paragraph.keys())\n",
    "        qas_new = []\n",
    "        for qa_index, qa in enumerate(paragraph['qas']):\n",
    "            \n",
    "            id = qa['id']\n",
    "            id_new = f\"{data_item['title']}_{qa_index}\"\n",
    "            qa_new = {\n",
    "                'id': id_new,\n",
    "                'question': qa['question'],\n",
    "                'answers': qa['answers']\n",
    "            }\n",
    "            qas_new.append(qa_new)\n",
    "            \n",
    "        doc_id = f\"{data_item['title']}_{para_index}\"\n",
    "        para_new = {\n",
    "            'document_id': doc_id,\n",
    "            'context': paragraph['context'],\n",
    "            'qas': qas_new\n",
    "        }\n",
    "        \n",
    "        paras_new.append(para_new)\n",
    "        \n",
    "    mimicqa_test_new.append({\n",
    "        'title': data_item['title'],\n",
    "        'paragraphs': paras_new\n",
    "    })\n",
    "    \n",
    "mimicqa_test = {'data': mimicqa_test_new}\n",
    "\n",
    "# Dump the processed data\n",
    "with open(mimicqa_output_path, 'w') as f:\n",
    "    json.dump(mimicqa_test, f)"
   ]
  }
 ],
 "metadata": {
  "kernelspec": {
   "display_name": "qa",
   "language": "python",
   "name": "python3"
  },
  "language_info": {
   "codemirror_mode": {
    "name": "ipython",
    "version": 3
   },
   "file_extension": ".py",
   "mimetype": "text/x-python",
   "name": "python",
   "nbconvert_exporter": "python",
   "pygments_lexer": "ipython3",
   "version": "3.9.18"
  }
 },
 "nbformat": 4,
 "nbformat_minor": 2
}
