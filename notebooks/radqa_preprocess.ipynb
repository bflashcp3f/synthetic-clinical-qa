{
 "cells": [
  {
   "cell_type": "code",
   "execution_count": 1,
   "metadata": {},
   "outputs": [],
   "source": [
    "import json\n",
    "import string\n",
    "import ast\n",
    "\n",
    "from pathlib import Path\n",
    "from collections import Counter\n",
    "\n",
    "from nltk.tokenize import word_tokenize\n",
    "from nltk.util import ngrams\n",
    "from nltk.corpus import stopwords\n",
    "\n",
    "from pandas import DataFrame\n",
    "import pandas as pd\n",
    "\n",
    "from scipy.stats import skew"
   ]
  },
  {
   "cell_type": "code",
   "execution_count": 2,
   "metadata": {},
   "outputs": [],
   "source": [
    "radqa_dir = Path('../data/raw/radqa/')\n",
    "\n",
    "radqa_train_path = radqa_dir / 'train.json'\n",
    "radqa_dev_path = radqa_dir / 'dev.json'\n",
    "radqa_test_path = radqa_dir / 'test.json'"
   ]
  },
  {
   "cell_type": "code",
   "execution_count": 3,
   "metadata": {},
   "outputs": [
    {
     "name": "stdout",
     "output_type": "stream",
     "text": [
      "The number of paragraphs/documents in the training set is 803\n",
      "The number of paragraphs/documents in the dev set is 102\n",
      "The number of paragraphs/documents in the test set is 104\n"
     ]
    }
   ],
   "source": [
    "radqa_train = json.load(open(radqa_train_path))\n",
    "radqa_dev = json.load(open(radqa_dev_path))\n",
    "radqa_test = json.load(open(radqa_test_path))\n",
    "\n",
    "print(f'The number of paragraphs/documents in the training set is', len(radqa_train['data']))\n",
    "print(f'The number of paragraphs/documents in the dev set is', len(radqa_dev['data']))\n",
    "print(f'The number of paragraphs/documents in the test set is', len(radqa_test['data']))"
   ]
  },
  {
   "cell_type": "code",
   "execution_count": 4,
   "metadata": {},
   "outputs": [
    {
     "name": "stdout",
     "output_type": "stream",
     "text": [
      "The number of qa pairs in the training set is 4878\n",
      "The number of qa pairs in the dev set is 656\n",
      "The number of qa pairs in the test set is 614\n"
     ]
    }
   ],
   "source": [
    "print(f'The number of qa pairs in the training set is', sum([len(paragraph['qas']) for item in radqa_train['data'] for paragraph in item['paragraphs']]))\n",
    "print(f'The number of qa pairs in the dev set is', sum([len(paragraph['qas']) for item in radqa_dev['data'] for paragraph in item['paragraphs']]))\n",
    "print(f'The number of qa pairs in the test set is', sum([len(paragraph['qas']) for item in radqa_test['data'] for paragraph in item['paragraphs']]))"
   ]
  },
  {
   "cell_type": "code",
   "execution_count": 6,
   "metadata": {},
   "outputs": [],
   "source": [
    "def process_string(s):\n",
    "    # return s\n",
    "    return ' '.join([item for item in s.replace('\\n _', '\\n\\n _').replace('_\\n ', '_\\n\\n ').replace('\\n ', ' ').split(' ') if item]).replace('\\n ', '\\n')"
   ]
  },
  {
   "cell_type": "code",
   "execution_count": 8,
   "metadata": {},
   "outputs": [],
   "source": [
    "def get_qs_processed(radqa_data):\n",
    "    radqa_data = radqa_data['data']\n",
    "    radqa_data_processed = []\n",
    "    \n",
    "    for item_idx, data_item in enumerate(radqa_data):\n",
    "        # print(data_item.keys())\n",
    "        title = data_item['title']\n",
    "        paragraphs = data_item['paragraphs']\n",
    "        \n",
    "        paragraphs_processed = []\n",
    "        for para_idx, paragraph in enumerate(paragraphs):\n",
    "            # print(paragraph.keys())\n",
    "            context = paragraph['context']\n",
    "            context = process_string(context)\n",
    "            # print(context)\n",
    "            \n",
    "            qas = paragraph['qas']\n",
    "            document_id = paragraph['document_id']\n",
    "            \n",
    "            qas_processed = []\n",
    "            for qa in qas:\n",
    "                id = qa['id']\n",
    "                question = qa['question']\n",
    "                answers = qa['answers']\n",
    "                # print(answers)\n",
    "                \n",
    "                answers_processed = []\n",
    "                for answer in answers:\n",
    "                    answer_id = answer['answer_id']\n",
    "                    text = answer['text']\n",
    "                    # answer_start = answer['answer_start']\n",
    "                    text = process_string(text)\n",
    "                    assert text in context\n",
    "                    answer_start = context.index(text)\n",
    "                    answers_processed.append({\n",
    "                        'answer_id': answer_id,\n",
    "                        'text': text,\n",
    "                        'answer_start': answer_start\n",
    "                    })\n",
    "                answers = answers_processed\n",
    "                is_impossible = qa['is_impossible']\n",
    "                \n",
    "                # if is_impossible:\n",
    "                #     assert not answers\n",
    "                #     continue\n",
    "                # else:\n",
    "                qas_processed.append({\n",
    "                    'id': id,\n",
    "                    'question': question,\n",
    "                    'answers': answers,\n",
    "                    'is_impossible': is_impossible\n",
    "                })\n",
    "                \n",
    "            if qas_processed:\n",
    "                paragraphs_processed.append({\n",
    "                    'context': context,\n",
    "                    'qas': qas_processed,\n",
    "                    'document_id': document_id\n",
    "                })\n",
    "                \n",
    "        if paragraphs_processed:\n",
    "            radqa_data_processed.append({\n",
    "                'title': title,\n",
    "                'paragraphs': paragraphs_processed\n",
    "            })\n",
    "        # break\n",
    "    \n",
    "    return {'data': radqa_data_processed}\n",
    "\n"
   ]
  },
  {
   "cell_type": "code",
   "execution_count": null,
   "metadata": {},
   "outputs": [],
   "source": [
    "radqa_train_processed = get_qs_processed(radqa_train)\n",
    "\n",
    "# Shuffle the training data\n",
    "\n",
    "import random\n",
    "import copy\n",
    "\n",
    "random_seed = 42\n",
    "radqa_train_shuffle = copy.deepcopy(radqa_train_processed[\"data\"])\n",
    "\n",
    "random.seed(random_seed)\n",
    "random.shuffle(radqa_train_shuffle)\n",
    "\n",
    "radqa_train_processed = {\"data\": radqa_train_shuffle}"
   ]
  },
  {
   "cell_type": "code",
   "execution_count": 10,
   "metadata": {},
   "outputs": [],
   "source": [
    "radqa_dev_processed = get_qs_processed(radqa_dev)\n",
    "radqa_test_processed = get_qs_processed(radqa_test)\n"
   ]
  },
  {
   "cell_type": "code",
   "execution_count": 11,
   "metadata": {},
   "outputs": [
    {
     "name": "stdout",
     "output_type": "stream",
     "text": [
      "The number of qa pairs in the training set is 4878\n",
      "The number of qa pairs in the dev set is 656\n",
      "The number of qa pairs in the test set is 614\n"
     ]
    }
   ],
   "source": [
    "print(f'The number of qa pairs in the training set is', sum([len(paragraph['qas']) for item in radqa_train_processed['data'] for paragraph in item['paragraphs']]))\n",
    "print(f'The number of qa pairs in the dev set is', sum([len(paragraph['qas']) for item in radqa_dev_processed['data'] for paragraph in item['paragraphs']]))\n",
    "print(f'The number of qa pairs in the test set is', sum([len(paragraph['qas']) for item in radqa_test_processed['data'] for paragraph in item['paragraphs']]))"
   ]
  },
  {
   "cell_type": "code",
   "execution_count": 14,
   "metadata": {},
   "outputs": [
    {
     "name": "stdout",
     "output_type": "stream",
     "text": [
      "The number of qa pairs in the test set is 614\n",
      "The number of answerable qa pairs in the test set is 460\n",
      "The number of non-answerable qa pairs in the test set is 154\n"
     ]
    }
   ],
   "source": [
    "print(f'The number of qa pairs in the test set is', sum([len(paragraph['qas']) for item in radqa_test['data'] for paragraph in item['paragraphs']]))\n",
    "print(f'The number of answerable qa pairs in the test set is', sum([len([qa for qa in paragraph['qas'] if not qa['is_impossible']]) for item in radqa_test['data'] for paragraph in item['paragraphs']]))\n",
    "print(f'The number of non-answerable qa pairs in the test set is', sum([len([qa for qa in paragraph['qas'] if qa['is_impossible']]) for item in radqa_test['data'] for paragraph in item['paragraphs']]))"
   ]
  },
  {
   "cell_type": "code",
   "execution_count": 15,
   "metadata": {},
   "outputs": [],
   "source": [
    "saved_data_dir = Path('../data/modified/radqa/')\n",
    "\n",
    "train_output_path = saved_data_dir / 'train_processed.json'\n",
    "dev_output_path = saved_data_dir / 'dev_processed.json'\n",
    "test_output_path = saved_data_dir / 'test_processed.json'\n",
    "\n",
    "with open(train_output_path, 'w') as f:\n",
    "    json.dump(radqa_train_processed, f)\n",
    "    \n",
    "with open(dev_output_path, 'w') as f:\n",
    "    json.dump(radqa_dev_processed, f)\n",
    "    \n",
    "with open(test_output_path, 'w') as f:\n",
    "    json.dump(radqa_test_processed, f)"
   ]
  }
 ],
 "metadata": {
  "kernelspec": {
   "display_name": "qa",
   "language": "python",
   "name": "python3"
  },
  "language_info": {
   "codemirror_mode": {
    "name": "ipython",
    "version": 3
   },
   "file_extension": ".py",
   "mimetype": "text/x-python",
   "name": "python",
   "nbconvert_exporter": "python",
   "pygments_lexer": "ipython3",
   "version": "3.9.18"
  }
 },
 "nbformat": 4,
 "nbformat_minor": 2
}
